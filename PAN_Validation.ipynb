{
 "cells": [
  {
   "cell_type": "code",
   "execution_count": 35,
   "id": "99f1b3f9-5b87-49d9-b9e3-cf20d70ddd1e",
   "metadata": {},
   "outputs": [],
   "source": [
    "import pandas as pd\n",
    "import re"
   ]
  },
  {
   "cell_type": "code",
   "execution_count": 36,
   "id": "140c7225-e619-487e-bc58-a6ef24c6bfd1",
   "metadata": {},
   "outputs": [],
   "source": [
    "df = pd.read_excel(\"PAN Number Validation Dataset.xlsx\")\n",
    "df.head(10)\n",
    "total_records = len(df)"
   ]
  },
  {
   "cell_type": "markdown",
   "id": "c76a047d-d92a-4e0b-b6c1-f12a02fdc349",
   "metadata": {},
   "source": [
    "**Data Preprocessing**"
   ]
  },
  {
   "cell_type": "code",
   "execution_count": 37,
   "id": "f491ee1f-c926-4e0b-bb50-1abd39fa6759",
   "metadata": {},
   "outputs": [
    {
     "data": {
      "text/plain": [
       "(10000, 1)"
      ]
     },
     "execution_count": 37,
     "metadata": {},
     "output_type": "execute_result"
    }
   ],
   "source": [
    "df.shape"
   ]
  },
  {
   "cell_type": "code",
   "execution_count": 38,
   "id": "681e389b-a926-48af-b35e-c34fd2ce3751",
   "metadata": {},
   "outputs": [
    {
     "data": {
      "text/html": [
       "<div>\n",
       "<style scoped>\n",
       "    .dataframe tbody tr th:only-of-type {\n",
       "        vertical-align: middle;\n",
       "    }\n",
       "\n",
       "    .dataframe tbody tr th {\n",
       "        vertical-align: top;\n",
       "    }\n",
       "\n",
       "    .dataframe thead th {\n",
       "        text-align: right;\n",
       "    }\n",
       "</style>\n",
       "<table border=\"1\" class=\"dataframe\">\n",
       "  <thead>\n",
       "    <tr style=\"text-align: right;\">\n",
       "      <th></th>\n",
       "      <th>Pan_Numbers</th>\n",
       "    </tr>\n",
       "  </thead>\n",
       "  <tbody>\n",
       "    <tr>\n",
       "      <th>count</th>\n",
       "      <td>9035</td>\n",
       "    </tr>\n",
       "    <tr>\n",
       "      <th>unique</th>\n",
       "      <td>9027</td>\n",
       "    </tr>\n",
       "    <tr>\n",
       "      <th>top</th>\n",
       "      <td>JVPYR52307F</td>\n",
       "    </tr>\n",
       "    <tr>\n",
       "      <th>freq</th>\n",
       "      <td>4</td>\n",
       "    </tr>\n",
       "  </tbody>\n",
       "</table>\n",
       "</div>"
      ],
      "text/plain": [
       "        Pan_Numbers\n",
       "count          9035\n",
       "unique         9027\n",
       "top     JVPYR52307F\n",
       "freq              4"
      ]
     },
     "execution_count": 38,
     "metadata": {},
     "output_type": "execute_result"
    }
   ],
   "source": [
    "df.describe()"
   ]
  },
  {
   "cell_type": "code",
   "execution_count": 39,
   "id": "25c31d0c-c60f-40b4-89d6-76534e5e6ddd",
   "metadata": {},
   "outputs": [
    {
     "name": "stdout",
     "output_type": "stream",
     "text": [
      "<class 'pandas.core.frame.DataFrame'>\n",
      "RangeIndex: 10000 entries, 0 to 9999\n",
      "Data columns (total 1 columns):\n",
      " #   Column       Non-Null Count  Dtype \n",
      "---  ------       --------------  ----- \n",
      " 0   Pan_Numbers  9035 non-null   object\n",
      "dtypes: object(1)\n",
      "memory usage: 78.3+ KB\n"
     ]
    }
   ],
   "source": [
    "df.info()"
   ]
  },
  {
   "cell_type": "markdown",
   "id": "c05947e1-9e49-4c9b-b4ca-fb07b9c31ab5",
   "metadata": {},
   "source": [
    "**Data Cleaning**"
   ]
  },
  {
   "cell_type": "code",
   "execution_count": 40,
   "id": "036c6b85-1ff4-49f5-9ba7-0417aa1b1693",
   "metadata": {},
   "outputs": [
    {
     "data": {
      "text/html": [
       "<div>\n",
       "<style scoped>\n",
       "    .dataframe tbody tr th:only-of-type {\n",
       "        vertical-align: middle;\n",
       "    }\n",
       "\n",
       "    .dataframe tbody tr th {\n",
       "        vertical-align: top;\n",
       "    }\n",
       "\n",
       "    .dataframe thead th {\n",
       "        text-align: right;\n",
       "    }\n",
       "</style>\n",
       "<table border=\"1\" class=\"dataframe\">\n",
       "  <thead>\n",
       "    <tr style=\"text-align: right;\">\n",
       "      <th></th>\n",
       "      <th>Pan_Numbers</th>\n",
       "    </tr>\n",
       "  </thead>\n",
       "  <tbody>\n",
       "    <tr>\n",
       "      <th>0</th>\n",
       "      <td>VGLOD3180G</td>\n",
       "    </tr>\n",
       "    <tr>\n",
       "      <th>1</th>\n",
       "      <td>PHOXD7232L</td>\n",
       "    </tr>\n",
       "    <tr>\n",
       "      <th>2</th>\n",
       "      <td>MGEPH6532A</td>\n",
       "    </tr>\n",
       "    <tr>\n",
       "      <th>3</th>\n",
       "      <td>JJCHK4574O</td>\n",
       "    </tr>\n",
       "    <tr>\n",
       "      <th>4</th>\n",
       "      <td>XTQIJ2330L</td>\n",
       "    </tr>\n",
       "    <tr>\n",
       "      <th>5</th>\n",
       "      <td>HTJYM3835H</td>\n",
       "    </tr>\n",
       "    <tr>\n",
       "      <th>6</th>\n",
       "      <td>YQTAP6661X</td>\n",
       "    </tr>\n",
       "    <tr>\n",
       "      <th>7</th>\n",
       "      <td>HVOFE5635Y</td>\n",
       "    </tr>\n",
       "    <tr>\n",
       "      <th>8</th>\n",
       "      <td>HYUIJ7902R</td>\n",
       "    </tr>\n",
       "    <tr>\n",
       "      <th>9</th>\n",
       "      <td>IDSMT3429E</td>\n",
       "    </tr>\n",
       "  </tbody>\n",
       "</table>\n",
       "</div>"
      ],
      "text/plain": [
       "  Pan_Numbers\n",
       "0  VGLOD3180G\n",
       "1  PHOXD7232L\n",
       "2  MGEPH6532A\n",
       "3  JJCHK4574O\n",
       "4  XTQIJ2330L\n",
       "5  HTJYM3835H\n",
       "6  YQTAP6661X\n",
       "7  HVOFE5635Y\n",
       "8  HYUIJ7902R\n",
       "9  IDSMT3429E"
      ]
     },
     "execution_count": 40,
     "metadata": {},
     "output_type": "execute_result"
    }
   ],
   "source": [
    "# removing extra spaces from the data and converting all the data into uppercase\n",
    "df['Pan_Numbers'] = df['Pan_Numbers'].astype('string').str.strip().str.upper()\n",
    "df.head(10)"
   ]
  },
  {
   "cell_type": "code",
   "execution_count": 41,
   "id": "51c25f15-d4c3-47ee-b0d8-119e6642148b",
   "metadata": {},
   "outputs": [
    {
     "name": "stdout",
     "output_type": "stream",
     "text": [
      "Total no of rows: 9033\n"
     ]
    }
   ],
   "source": [
    "# removing null and empty values from the data\n",
    "df = df.replace({'Pan_Numbers':''}, pd.NA).dropna(subset='Pan_Numbers')\n",
    "print('Total no of rows:', len(df))"
   ]
  },
  {
   "cell_type": "code",
   "execution_count": 42,
   "id": "47aa02f6-4151-4e42-913f-3c6ca21f761a",
   "metadata": {},
   "outputs": [],
   "source": [
    "# removing duplicate values"
   ]
  },
  {
   "cell_type": "code",
   "execution_count": 43,
   "id": "48ddd6d6-88c6-44eb-b479-c80fc48766e4",
   "metadata": {},
   "outputs": [
    {
     "name": "stdout",
     "output_type": "stream",
     "text": [
      "Unique values in dataframe: 9025\n"
     ]
    }
   ],
   "source": [
    "print('Unique values in dataframe:', df['Pan_Numbers'].nunique())"
   ]
  },
  {
   "cell_type": "code",
   "execution_count": 44,
   "id": "a170b13f-31eb-4523-a0a7-a6a8d73d8d36",
   "metadata": {},
   "outputs": [
    {
     "name": "stdout",
     "output_type": "stream",
     "text": [
      "Total no of rows: 9025\n"
     ]
    }
   ],
   "source": [
    "df = df.drop_duplicates(subset='Pan_Numbers', keep='first')\n",
    "print('Total no of rows:', len(df))"
   ]
  },
  {
   "cell_type": "markdown",
   "id": "bec8aa36-8495-41f1-afde-0a28f1bdf6ee",
   "metadata": {},
   "source": [
    "**Data Validation**"
   ]
  },
  {
   "cell_type": "code",
   "execution_count": 45,
   "id": "545d7076-b8eb-4afc-970a-9d795e3a3202",
   "metadata": {},
   "outputs": [],
   "source": [
    "'''\n",
    "def has_adjacent_repitition(pan):\n",
    "    for i in range(len(pan)-1):\n",
    "        if pan[i] == pan[i+1]:\n",
    "            return True\n",
    "    return False\n",
    "\n",
    "def is_sequencial(pan):\n",
    "    for i in range(len(pan)-1):\n",
    "        if ord(pan[i+1]) - ord(pan[i]) != 1:\n",
    "            return False\n",
    "    return True\n",
    "'''\n",
    "\n",
    "# other way to write the same code using list comp\n",
    "def has_adjacent_repitition(pan):\n",
    "    return any(pan[i] == pan[i+1] for i in range(len(pan)-1))\n",
    "\n",
    "def is_sequencial(pan):\n",
    "    return all(ord(pan[i+1]) - ord(pan[i]) == 1 for i in range(len(pan)-1))"
   ]
  },
  {
   "cell_type": "code",
   "execution_count": 46,
   "id": "205d3e7f-27de-45c1-afd2-d7a993c3d04c",
   "metadata": {},
   "outputs": [],
   "source": [
    "def is_valid_pan(pan):\n",
    "    if len(pan) != 10:\n",
    "        return False\n",
    "\n",
    "    if not re.match(r'^[A-Z]{5}[0-9]{4}[A-Z]{1}', pan):\n",
    "        return False\n",
    "\n",
    "    if has_adjacent_repitition(pan):\n",
    "        return False\n",
    "\n",
    "    if is_sequencial(pan):\n",
    "        return False\n",
    "\n",
    "    return True"
   ]
  },
  {
   "cell_type": "markdown",
   "id": "a7e44493-6f22-43fb-b2d7-df774dbfb726",
   "metadata": {},
   "source": [
    "** Categorizing the data**"
   ]
  },
  {
   "cell_type": "code",
   "execution_count": 48,
   "id": "fcb321e9-ea7b-4b94-9e5a-1bf0d504a10c",
   "metadata": {},
   "outputs": [
    {
     "data": {
      "text/html": [
       "<div>\n",
       "<style scoped>\n",
       "    .dataframe tbody tr th:only-of-type {\n",
       "        vertical-align: middle;\n",
       "    }\n",
       "\n",
       "    .dataframe tbody tr th {\n",
       "        vertical-align: top;\n",
       "    }\n",
       "\n",
       "    .dataframe thead th {\n",
       "        text-align: right;\n",
       "    }\n",
       "</style>\n",
       "<table border=\"1\" class=\"dataframe\">\n",
       "  <thead>\n",
       "    <tr style=\"text-align: right;\">\n",
       "      <th></th>\n",
       "      <th>Pan_Numbers</th>\n",
       "      <th>Status</th>\n",
       "    </tr>\n",
       "  </thead>\n",
       "  <tbody>\n",
       "    <tr>\n",
       "      <th>0</th>\n",
       "      <td>VGLOD3180G</td>\n",
       "      <td>Valid</td>\n",
       "    </tr>\n",
       "    <tr>\n",
       "      <th>1</th>\n",
       "      <td>PHOXD7232L</td>\n",
       "      <td>Valid</td>\n",
       "    </tr>\n",
       "    <tr>\n",
       "      <th>2</th>\n",
       "      <td>MGEPH6532A</td>\n",
       "      <td>Valid</td>\n",
       "    </tr>\n",
       "    <tr>\n",
       "      <th>3</th>\n",
       "      <td>JJCHK4574O</td>\n",
       "      <td>Invalid</td>\n",
       "    </tr>\n",
       "    <tr>\n",
       "      <th>4</th>\n",
       "      <td>XTQIJ2330L</td>\n",
       "      <td>Invalid</td>\n",
       "    </tr>\n",
       "    <tr>\n",
       "      <th>5</th>\n",
       "      <td>HTJYM3835H</td>\n",
       "      <td>Valid</td>\n",
       "    </tr>\n",
       "    <tr>\n",
       "      <th>6</th>\n",
       "      <td>YQTAP6661X</td>\n",
       "      <td>Invalid</td>\n",
       "    </tr>\n",
       "    <tr>\n",
       "      <th>7</th>\n",
       "      <td>HVOFE5635Y</td>\n",
       "      <td>Valid</td>\n",
       "    </tr>\n",
       "    <tr>\n",
       "      <th>8</th>\n",
       "      <td>HYUIJ7902R</td>\n",
       "      <td>Valid</td>\n",
       "    </tr>\n",
       "    <tr>\n",
       "      <th>9</th>\n",
       "      <td>IDSMT3429E</td>\n",
       "      <td>Valid</td>\n",
       "    </tr>\n",
       "  </tbody>\n",
       "</table>\n",
       "</div>"
      ],
      "text/plain": [
       "  Pan_Numbers   Status\n",
       "0  VGLOD3180G    Valid\n",
       "1  PHOXD7232L    Valid\n",
       "2  MGEPH6532A    Valid\n",
       "3  JJCHK4574O  Invalid\n",
       "4  XTQIJ2330L  Invalid\n",
       "5  HTJYM3835H    Valid\n",
       "6  YQTAP6661X  Invalid\n",
       "7  HVOFE5635Y    Valid\n",
       "8  HYUIJ7902R    Valid\n",
       "9  IDSMT3429E    Valid"
      ]
     },
     "execution_count": 48,
     "metadata": {},
     "output_type": "execute_result"
    }
   ],
   "source": [
    "df['Status'] = df['Pan_Numbers'].apply(lambda x: \"Valid\" if is_valid_pan(x) else \"Invalid\")\n",
    "df.head(10)"
   ]
  },
  {
   "cell_type": "markdown",
   "id": "a50283f4-ab3e-49b3-b63d-1a7f463dd5e9",
   "metadata": {},
   "source": [
    "**Data Summary**"
   ]
  },
  {
   "cell_type": "code",
   "execution_count": 49,
   "id": "597e7047-9c7b-45ce-957a-7c3de5eafbef",
   "metadata": {},
   "outputs": [],
   "source": [
    "valid_cnt = (df['Status']=='Valid').sum()\n",
    "invalid_cnt = (df['Status'] == 'Invalid').sum()\n",
    "missing_cnt = total_records - (valid_cnt + invalid_cnt)"
   ]
  },
  {
   "cell_type": "code",
   "execution_count": 50,
   "id": "13090faa-ffd9-4806-85ff-b193faad1ec5",
   "metadata": {},
   "outputs": [
    {
     "name": "stdout",
     "output_type": "stream",
     "text": [
      "Total records =  10000\n",
      "No of Valid PAN =  3193\n",
      "No of Invalid PAN =  5832\n",
      "No of missing PAN =  975\n"
     ]
    }
   ],
   "source": [
    "print(\"Total records = \",total_records)\n",
    "print(\"No of Valid PAN = \",valid_cnt)\n",
    "print(\"No of Invalid PAN = \",invalid_cnt)\n",
    "print(\"No of missing PAN = \",missing_cnt)"
   ]
  },
  {
   "cell_type": "markdown",
   "id": "4371ed6c-c8e2-4856-ba34-d3b2ad4fd30b",
   "metadata": {},
   "source": [
    "**Importing data to Excel**"
   ]
  },
  {
   "cell_type": "code",
   "execution_count": 51,
   "id": "699a7ec1-da79-47eb-b2b4-489c53da6efc",
   "metadata": {},
   "outputs": [
    {
     "data": {
      "text/html": [
       "<div>\n",
       "<style scoped>\n",
       "    .dataframe tbody tr th:only-of-type {\n",
       "        vertical-align: middle;\n",
       "    }\n",
       "\n",
       "    .dataframe tbody tr th {\n",
       "        vertical-align: top;\n",
       "    }\n",
       "\n",
       "    .dataframe thead th {\n",
       "        text-align: right;\n",
       "    }\n",
       "</style>\n",
       "<table border=\"1\" class=\"dataframe\">\n",
       "  <thead>\n",
       "    <tr style=\"text-align: right;\">\n",
       "      <th></th>\n",
       "      <th>TOTAL PROCESSED RECORDS</th>\n",
       "      <th>TOTAL VALID COUNT</th>\n",
       "      <th>TOTAL INVALID COUNT</th>\n",
       "      <th>TOTAL MISSING PAN</th>\n",
       "    </tr>\n",
       "  </thead>\n",
       "  <tbody>\n",
       "    <tr>\n",
       "      <th>0</th>\n",
       "      <td>10000</td>\n",
       "      <td>3193</td>\n",
       "      <td>5832</td>\n",
       "      <td>975</td>\n",
       "    </tr>\n",
       "  </tbody>\n",
       "</table>\n",
       "</div>"
      ],
      "text/plain": [
       "   TOTAL PROCESSED RECORDS  TOTAL VALID COUNT  TOTAL INVALID COUNT  \\\n",
       "0                    10000               3193                 5832   \n",
       "\n",
       "   TOTAL MISSING PAN  \n",
       "0                975  "
      ]
     },
     "execution_count": 51,
     "metadata": {},
     "output_type": "execute_result"
    }
   ],
   "source": [
    "df_summary = pd.DataFrame({\"TOTAL PROCESSED RECORDS\":[total_records],\n",
    "                           \"TOTAL VALID COUNT\": [valid_cnt],\n",
    "                           \"TOTAL INVALID COUNT\": [invalid_cnt],\n",
    "                           \"TOTAL MISSING PAN\": [missing_cnt]\n",
    "                          })\n",
    "df_summary"
   ]
  },
  {
   "cell_type": "code",
   "execution_count": 52,
   "id": "bbe983ab-0fc6-4597-879f-11ef69c76c83",
   "metadata": {},
   "outputs": [],
   "source": [
    "with pd.ExcelWriter(\"PAN VALIDATION RESULT.xlsx\") as writer:\n",
    "    df.to_excel(writer, sheet_name=\"PAN Validations\", index=False)\n",
    "    df_summary.to_excel(writer, sheet_name=\"SUMMARY\", index=False)"
   ]
  },
  {
   "cell_type": "code",
   "execution_count": null,
   "id": "a964d341-745a-47ba-9e71-963a2a1a9e28",
   "metadata": {},
   "outputs": [],
   "source": []
  }
 ],
 "metadata": {
  "kernelspec": {
   "display_name": "Python 3 (ipykernel)",
   "language": "python",
   "name": "python3"
  },
  "language_info": {
   "codemirror_mode": {
    "name": "ipython",
    "version": 3
   },
   "file_extension": ".py",
   "mimetype": "text/x-python",
   "name": "python",
   "nbconvert_exporter": "python",
   "pygments_lexer": "ipython3",
   "version": "3.13.5"
  }
 },
 "nbformat": 4,
 "nbformat_minor": 5
}
